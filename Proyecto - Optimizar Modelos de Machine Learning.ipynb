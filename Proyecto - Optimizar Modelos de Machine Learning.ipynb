{
 "cells": [
  {
   "cell_type": "markdown",
   "id": "b9af9e49",
   "metadata": {},
   "source": [
    "# Proyecto - Optimizar Modelos de Machine Learning\n",
    "\n",
    "El proyecto del día de hoy consiste en tomar un código que ya está desarrollado con Scikit-Learn, y modificarlo agregando varios apspectos que hemos aprendido el día de hoy.\n",
    "\n",
    "Este programa es un simple análisis usando el modelo de **Bosques Aleatorios** en un dataset de **Scikit-Learn** sobre registros médicos de **pacientes con diabetes**.\n",
    "\n",
    "### Consigna\n",
    "\n",
    "Tu trabajo aquí simplemente consiste en ejecutar este código, y analizarlo para identificar qué hace cada línea, y cuál es su función dentro del código. Una vez que te hayas asegurado de haber identificado sus elementos y de haber comprendido su funcionamiento en general, realiza todas las modificaciones que creas necesarias, para que este código incluya:\n",
    "\n",
    "+ Preprocesamiento de datos con StandardScaler\n",
    "+ Selección de mejores categorías (investiga cuál es la mejor función de cálculo)\n",
    "+ Pipelines\n",
    "+ Evaluación de modelo"
   ]
  },
  {
   "cell_type": "code",
   "execution_count": 2,
   "id": "78138f59",
   "metadata": {},
   "outputs": [
    {
     "name": "stdout",
     "output_type": "stream",
     "text": [
      "\n",
      "Precisión del modelo: 0.72\n"
     ]
    }
   ],
   "source": [
    "import numpy as np\n",
    "import pandas as pd\n",
    "from sklearn import datasets\n",
    "from sklearn.model_selection import train_test_split\n",
    "from sklearn.ensemble import RandomForestClassifier\n",
    "\n",
    "# Cargar el dataset de diabetes\n",
    "diabetes = datasets.load_diabetes()\n",
    "\n",
    "# Convertir a DataFrame para facilitar el análisis exploratorio\n",
    "diabetes_df = pd.DataFrame(data=np.c_[diabetes['data'], diabetes['target']],\n",
    "                           columns=diabetes['feature_names'] + ['target'])\n",
    "\n",
    "# Convertir 'target' en categorías para clasificación\n",
    "diabetes_df['target'] = (diabetes_df['target'] > diabetes_df['target'].median()).astype(int)\n",
    "\n",
    "# División de datos en conjuntos de entrenamiento y prueba\n",
    "X = diabetes_df.drop('target', axis=1)\n",
    "y = diabetes_df['target']\n",
    "X_entrena, X_prueba, y_entrena, y_prueba = train_test_split(X, y, test_size=0.2, random_state=42)\n",
    "\n",
    "# Crear y entrenar el modelo RandomForest\n",
    "modelo = RandomForestClassifier(n_estimators=100, random_state=42)\n",
    "modelo.fit(X_entrena, y_entrena)\n",
    "\n",
    "# Realizar predicciones con el conjunto de prueba\n",
    "predicciones = modelo.predict(X_prueba)\n",
    "\n",
    "# Evaluación del modelo\n",
    "puntaje = modelo.score(X_prueba, y_prueba)\n",
    "print(f\"\\nPrecisión del modelo: {puntaje:.2f}\")\n"
   ]
  },
  {
   "cell_type": "markdown",
   "id": "418e3609",
   "metadata": {},
   "source": [
    "### Código optimizado"
   ]
  },
  {
   "cell_type": "code",
   "execution_count": 8,
   "id": "a39d9b9b",
   "metadata": {},
   "outputs": [
    {
     "name": "stdout",
     "output_type": "stream",
     "text": [
      "\n",
      "Precisión del modelo: 0.75\n",
      "Puntuaciones de validacion cruzada: [0.73033708 0.80898876 0.64772727 0.67045455 0.67045455]\n",
      "Promedio de puntuacion validacion cruzada: 0.71\n"
     ]
    }
   ],
   "source": [
    "from sklearn import datasets\n",
    "from sklearn.model_selection import train_test_split, cross_val_score\n",
    "from sklearn.preprocessing import StandardScaler\n",
    "from sklearn.pipeline import Pipeline\n",
    "from sklearn.ensemble import RandomForestClassifier\n",
    "from sklearn.feature_selection import SelectKBest, f_classif\n",
    "import pandas as pd\n",
    "import numpy as np\n",
    "\n",
    "# Cargar el dataset de diabetes\n",
    "diabetes = datasets.load_diabetes()\n",
    "\n",
    "# Convertir a DataFrame para facilitar el análisis exploratorio\n",
    "diabetes_df = pd.DataFrame(data=np.c_[diabetes['data'], diabetes['target']],\n",
    "                           columns=diabetes['feature_names'] + ['target'])\n",
    "\n",
    "# Convertir 'target' en categorías para clasificación\n",
    "diabetes_df['target'] = (diabetes_df['target'] > diabetes_df['target'].median()).astype(int)\n",
    "\n",
    "# División de datos en conjuntos de entrenamiento y prueba\n",
    "X = diabetes_df.drop('target', axis=1)\n",
    "y = diabetes_df['target']\n",
    "X_entrena, X_prueba, y_entrena, y_prueba = train_test_split(X, y, test_size=0.25, random_state=0)\n",
    "\n",
    "#Seleccion de las mejores 4 caracteristicas\n",
    "selector = SelectKBest(score_func=f_classif, k=4)\n",
    "X_entrena_seleccionada = selector.fit_transform(X_entrena, y_entrena)\n",
    "X_prueba_seleccionada = selector.transform(X_prueba)\n",
    "\n",
    "#Creacion del pipeline sin la seleccion de las caracteristicas\n",
    "pipeline = Pipeline([\n",
    "    ('scaler', StandardScaler()),\n",
    "    ('classifier', RandomForestClassifier(n_estimators=100, random_state=42))\n",
    "])                \n",
    "    \n",
    "# Crear y entrenar el modelo RandomForest\n",
    "pipeline.fit(X_entrena_seleccionada, y_entrena)\n",
    "\n",
    "# Realizar predicciones con el conjunto de prueba\n",
    "predicciones = pipeline.predict(X_prueba_seleccionada)\n",
    "\n",
    "# Evaluación del modelo\n",
    "puntaje = pipeline.score(X_prueba_seleccionada, y_prueba)\n",
    "\n",
    "print(f\"\\nPrecisión del modelo: {puntaje:.2f}\")\n",
    "\n",
    "#Evaluacion adicional con validacion cruzada\n",
    "puntaje_validacion_cruzada = cross_val_score(pipeline, selector.transform(X), y, cv=5)\n",
    "print(f'Puntuaciones de validacion cruzada: {puntaje_validacion_cruzada}')\n",
    "print(f'Promedio de puntuacion validacion cruzada: {np.mean(puntaje_validacion_cruzada):.2f}')"
   ]
  },
  {
   "cell_type": "code",
   "execution_count": null,
   "id": "2a609ebb-1316-4af9-8b65-6f20672b63aa",
   "metadata": {},
   "outputs": [],
   "source": []
  }
 ],
 "metadata": {
  "kernelspec": {
   "display_name": "Python 3 (ipykernel)",
   "language": "python",
   "name": "python3"
  },
  "language_info": {
   "codemirror_mode": {
    "name": "ipython",
    "version": 3
   },
   "file_extension": ".py",
   "mimetype": "text/x-python",
   "name": "python",
   "nbconvert_exporter": "python",
   "pygments_lexer": "ipython3",
   "version": "3.12.4"
  }
 },
 "nbformat": 4,
 "nbformat_minor": 5
}
